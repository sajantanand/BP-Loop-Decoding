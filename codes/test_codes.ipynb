{
 "cells": [
  {
   "cell_type": "code",
   "execution_count": 1,
   "id": "3a60454b-cd70-41ed-9aa3-8fb3b4144094",
   "metadata": {},
   "outputs": [],
   "source": [
    "import numpy as np\n",
    "import toric\n",
    "import ldpc.code_util"
   ]
  },
  {
   "cell_type": "markdown",
   "id": "8d39bdb2-31e3-4aa7-8a4c-d7a77bc7b83b",
   "metadata": {},
   "source": [
    "# Toric Code\n",
    "This is the usual toric code on a torus, so there are 2 logical qubits. We use a distance of `d`."
   ]
  },
  {
   "cell_type": "markdown",
   "id": "bd3e194e-055d-42d9-809b-85691fa59727",
   "metadata": {
    "jp-MarkdownHeadingCollapsed": true
   },
   "source": [
    "## Codes"
   ]
  },
  {
   "cell_type": "code",
   "execution_count": 2,
   "id": "e90e5c63-cadb-4498-94d3-dfe437a4e67e",
   "metadata": {},
   "outputs": [],
   "source": [
    "d = 5\n",
    "H = toric.toric_code_x(d)"
   ]
  },
  {
   "cell_type": "code",
   "execution_count": 3,
   "id": "fb8ee2d4-722f-45a4-8622-2296985e1538",
   "metadata": {},
   "outputs": [
    {
     "data": {
      "text/plain": [
       "array([[1, 1, 0, ..., 0, 0, 0],\n",
       "       [0, 1, 1, ..., 0, 0, 0],\n",
       "       [0, 0, 0, ..., 0, 0, 0],\n",
       "       ...,\n",
       "       [0, 0, 0, ..., 0, 0, 0],\n",
       "       [0, 0, 0, ..., 1, 0, 0],\n",
       "       [0, 0, 0, ..., 1, 1, 1]], shape=(25, 50), dtype=uint8)"
      ]
     },
     "execution_count": 3,
     "metadata": {},
     "output_type": "execute_result"
    }
   ],
   "source": [
    "H.toarray()"
   ]
  },
  {
   "cell_type": "markdown",
   "id": "df643a93-b125-445e-b102-faf849967f26",
   "metadata": {},
   "source": [
    "We use utilities from Jaoschka Roffe's `ldpc` library to compute code parameters. Note that this code only works for classical parity check matrices. So it has no knowledge of quantum structure. If we run it on a quantum code, it'll treat it like a classical code on bits."
   ]
  },
  {
   "cell_type": "code",
   "execution_count": 4,
   "id": "c241dc05-5f4c-4743-addd-a688a0c55166",
   "metadata": {},
   "outputs": [
    {
     "data": {
      "text/plain": [
       "(50, 26, 4)"
      ]
     },
     "execution_count": 4,
     "metadata": {},
     "output_type": "execute_result"
    }
   ],
   "source": [
    "ldpc.code_util.compute_code_parameters(H)"
   ]
  },
  {
   "cell_type": "markdown",
   "id": "99bbb2e1-8f56-4748-b441-c2072a1d7381",
   "metadata": {},
   "source": [
    "What? Why are there $d^2 + 1$ logical qubits??? We have only used the X checks. There are d^2 of them, but one is not linearly independent (the product of all d^2 is the identity). The distance appears to be $\\mathrm{min}(4, d)$. Why? Because both the Z logicals and the Z stabilizers are technically logical operators."
   ]
  },
  {
   "cell_type": "code",
   "execution_count": 5,
   "id": "bb2ec724-38e1-45bd-aab6-883b27bd397a",
   "metadata": {},
   "outputs": [],
   "source": [
    "H = toric.toric_code_z(d)"
   ]
  },
  {
   "cell_type": "code",
   "execution_count": 6,
   "id": "cb520fff-6f0a-4b0c-826d-4ddfc304261f",
   "metadata": {},
   "outputs": [
    {
     "data": {
      "text/plain": [
       "(50, 26, 4)"
      ]
     },
     "execution_count": 6,
     "metadata": {},
     "output_type": "execute_result"
    }
   ],
   "source": [
    "ldpc.code_util.compute_code_parameters(H)"
   ]
  },
  {
   "cell_type": "markdown",
   "id": "0984de84-3987-4e65-a62c-d5e303401ce0",
   "metadata": {},
   "source": [
    "The $Z$ code has the same properties as the $X$ code. Again, $X$ stabilizers and logicals are the logical operators of this classical code."
   ]
  },
  {
   "cell_type": "code",
   "execution_count": 7,
   "id": "f35aa7e6-7ff3-421e-9703-4cc0e7b1e21e",
   "metadata": {},
   "outputs": [],
   "source": [
    "H = toric.toric_code(d, verbose=False)"
   ]
  },
  {
   "cell_type": "code",
   "execution_count": 8,
   "id": "69fbf66f-c082-4d8d-96a0-073069c86f92",
   "metadata": {},
   "outputs": [
    {
     "data": {
      "text/plain": [
       "(50, 100)"
      ]
     },
     "execution_count": 8,
     "metadata": {},
     "output_type": "execute_result"
    }
   ],
   "source": [
    "H.shape"
   ]
  },
  {
   "cell_type": "code",
   "execution_count": 9,
   "id": "2067147c-db01-493d-a06a-5b25e175ad9b",
   "metadata": {},
   "outputs": [
    {
     "data": {
      "text/plain": [
       "(100, 52, 4)"
      ]
     },
     "execution_count": 9,
     "metadata": {},
     "output_type": "execute_result"
    }
   ],
   "source": [
    "ldpc.code_util.compute_code_parameters(H)"
   ]
  },
  {
   "cell_type": "code",
   "execution_count": 10,
   "id": "0e3dd210-d7a0-4f0f-a012-d755a019b78b",
   "metadata": {},
   "outputs": [
    {
     "data": {
      "text/plain": [
       "True"
      ]
     },
     "execution_count": 10,
     "metadata": {},
     "output_type": "execute_result"
    }
   ],
   "source": [
    "np.allclose((H @ toric.symplectic(2*d**2) @ H.T).data % 2, 0)"
   ]
  },
  {
   "cell_type": "markdown",
   "id": "81c3d2b4-87db-4194-9c16-f1494b928156",
   "metadata": {
    "jp-MarkdownHeadingCollapsed": true
   },
   "source": [
    "## Logical operators"
   ]
  },
  {
   "cell_type": "code",
   "execution_count": 11,
   "id": "f0ea2af8-8186-447d-a5a7-84688b4749b1",
   "metadata": {},
   "outputs": [
    {
     "name": "stdout",
     "output_type": "stream",
     "text": [
      "Generate X logicals\n",
      "[1, 11, 21, 31, 41]\n",
      "[0, 2, 4, 6, 8]\n",
      "Generate Z logicals\n",
      "[0, 10, 20, 30, 40]\n",
      "[1, 3, 5, 7, 9]\n"
     ]
    }
   ],
   "source": [
    "log, ip = toric.toric_code_logical(d, verbose=True)"
   ]
  },
  {
   "cell_type": "code",
   "execution_count": 13,
   "id": "86b26120-9d0c-40f9-9aeb-abd55eb7b595",
   "metadata": {},
   "outputs": [
    {
     "data": {
      "text/plain": [
       "array([[0, 0, 0, 1],\n",
       "       [0, 0, 1, 0],\n",
       "       [0, 1, 0, 0],\n",
       "       [1, 0, 0, 0]], dtype=uint8)"
      ]
     },
     "execution_count": 13,
     "metadata": {},
     "output_type": "execute_result"
    }
   ],
   "source": [
    "ip.toarray()"
   ]
  },
  {
   "cell_type": "code",
   "execution_count": 12,
   "id": "9121c2b2-1700-478d-b62a-5094958663f5",
   "metadata": {},
   "outputs": [
    {
     "data": {
      "text/plain": [
       "(100, 96, 1)"
      ]
     },
     "execution_count": 12,
     "metadata": {},
     "output_type": "execute_result"
    }
   ],
   "source": [
    "ldpc.code_util.compute_code_parameters(log)"
   ]
  },
  {
   "cell_type": "markdown",
   "id": "e623639a-427d-404f-9b83-80e5f1b73d7d",
   "metadata": {},
   "source": [
    "The distance is one; there are some single qubit operators that commute with all logical operators."
   ]
  },
  {
   "cell_type": "markdown",
   "id": "79b0805d-c742-41b0-a1cd-dc408a95c321",
   "metadata": {
    "jp-MarkdownHeadingCollapsed": true
   },
   "source": [
    "# Surface code"
   ]
  },
  {
   "cell_type": "markdown",
   "id": "70ca1473-9a9c-4250-9f3c-05d78fa87c83",
   "metadata": {},
   "source": [
    "# Codes"
   ]
  },
  {
   "cell_type": "code",
   "execution_count": 14,
   "id": "63b0a9aa-b578-40ba-890f-47111f0b9ebf",
   "metadata": {},
   "outputs": [],
   "source": [
    "d = 5\n",
    "k = 5"
   ]
  },
  {
   "cell_type": "code",
   "execution_count": 15,
   "id": "65e76203-739a-42df-98b8-1cde57e8afac",
   "metadata": {
    "scrolled": true
   },
   "outputs": [],
   "source": [
    "H = toric.surface_code_x(d, k, verbose=False)"
   ]
  },
  {
   "cell_type": "code",
   "execution_count": 16,
   "id": "4608af5d-4f42-42c8-9a78-3885073022eb",
   "metadata": {},
   "outputs": [
    {
     "data": {
      "text/plain": [
       "(187, 97, 3)"
      ]
     },
     "execution_count": 16,
     "metadata": {},
     "output_type": "execute_result"
    }
   ],
   "source": [
    "ldpc.code_util.compute_code_parameters(H)"
   ]
  },
  {
   "cell_type": "code",
   "execution_count": 17,
   "id": "dffbcfda-3708-4a31-9d46-056dcaf839f6",
   "metadata": {
    "scrolled": true
   },
   "outputs": [],
   "source": [
    "H = toric.surface_code_z(d, k, verbose=False)"
   ]
  },
  {
   "cell_type": "code",
   "execution_count": 18,
   "id": "4b63c1cf-d4ac-4598-b135-abf3b5dad513",
   "metadata": {},
   "outputs": [
    {
     "data": {
      "text/plain": [
       "(187, 95, 3)"
      ]
     },
     "execution_count": 18,
     "metadata": {},
     "output_type": "execute_result"
    }
   ],
   "source": [
    "ldpc.code_util.compute_code_parameters(H)"
   ]
  },
  {
   "cell_type": "code",
   "execution_count": 19,
   "id": "dd640f94-898a-4791-98b8-58cb2446c35f",
   "metadata": {
    "scrolled": true
   },
   "outputs": [
    {
     "name": "stdout",
     "output_type": "stream",
     "text": [
      "(182, 374)\n"
     ]
    }
   ],
   "source": [
    "H = toric.surface_code(d, k, verbose=False)\n",
    "print(H.shape)"
   ]
  },
  {
   "cell_type": "code",
   "execution_count": 20,
   "id": "b22e301b-2aa6-492c-bcc0-b13ff4d19ab2",
   "metadata": {},
   "outputs": [
    {
     "data": {
      "text/plain": [
       "(374, 192, 3)"
      ]
     },
     "execution_count": 20,
     "metadata": {},
     "output_type": "execute_result"
    }
   ],
   "source": [
    "ldpc.code_util.compute_code_parameters(H)"
   ]
  },
  {
   "cell_type": "markdown",
   "id": "50016fdc-61ab-4792-8b6b-77e171170951",
   "metadata": {},
   "source": [
    "Now the distance is 3 since there are 3 body operators."
   ]
  },
  {
   "cell_type": "markdown",
   "id": "b478c8fd-68bf-479e-869e-578355563651",
   "metadata": {},
   "source": [
    "## Logicals"
   ]
  },
  {
   "cell_type": "code",
   "execution_count": 28,
   "id": "994666b1-6052-4126-bdbc-ae76b7ad72cf",
   "metadata": {},
   "outputs": [
    {
     "name": "stdout",
     "output_type": "stream",
     "text": [
      "Lx=18, Ly=5\n",
      "boundary_x=[False False]\n",
      "boundary_y=[ True  True  True False False False False False  True  True False False\n",
      " False False False  True  True  True]\n",
      "num_qubits=187\n",
      "Generate X logicals\n",
      "[182, 183, 184, 185, 186]\n",
      "[37, 48, 59, 70, 81]\n",
      "[27, 38, 49, 60, 71]\n",
      "[110, 121, 132, 143, 154]\n",
      "[100, 111, 122, 133, 144]\n",
      "Lx=18, Ly=5\n",
      "boundary_x=[False False]\n",
      "boundary_y=[ True  True  True False False False False False  True  True False False\n",
      " False False False  True  True  True]\n",
      "num_qubits=187\n",
      "Generate Z logicals\n",
      "[8, 17, 26, 36, 37]\n",
      "[0, 9, 18, 28, 27]\n",
      "[81, 90, 99, 109, 110]\n",
      "[71, 82, 91, 101, 100]\n",
      "[144, 155, 164, 173, 182]\n"
     ]
    }
   ],
   "source": [
    "log, ip = toric.surface_code_logical(d, k, verbose=True)"
   ]
  },
  {
   "cell_type": "code",
   "execution_count": 29,
   "id": "870e3016-87fa-4433-8eba-70a63cc23644",
   "metadata": {},
   "outputs": [
    {
     "data": {
      "text/plain": [
       "array([[0, 0, 0, 0, 0, 0, 0, 0, 0, 1],\n",
       "       [0, 0, 0, 0, 0, 1, 0, 1, 0, 0],\n",
       "       [0, 0, 0, 0, 0, 0, 1, 0, 1, 0],\n",
       "       [0, 0, 0, 0, 0, 0, 0, 1, 0, 0],\n",
       "       [0, 0, 0, 0, 0, 0, 0, 0, 1, 1],\n",
       "       [0, 1, 0, 0, 0, 0, 0, 0, 0, 0],\n",
       "       [0, 0, 1, 0, 0, 0, 0, 0, 0, 0],\n",
       "       [0, 1, 0, 1, 0, 0, 0, 0, 0, 0],\n",
       "       [0, 0, 1, 0, 1, 0, 0, 0, 0, 0],\n",
       "       [1, 0, 0, 0, 1, 0, 0, 0, 0, 0]], dtype=uint8)"
      ]
     },
     "execution_count": 29,
     "metadata": {},
     "output_type": "execute_result"
    }
   ],
   "source": [
    "ip.toarray()"
   ]
  },
  {
   "cell_type": "markdown",
   "id": "51b88255-975f-4a95-ac68-f1d2faf27699",
   "metadata": {},
   "source": [
    "`ip` indicates which Paulis anticommute with one another. We are choosing an irregular basis of the $k$ logical qubits. Rather than choosing $X_i$ and $Z_i$, we instead use products $\\prod Z_i$ and $\\prod X_i$ such that operators are horizontal (in the time direction for contraction)."
   ]
  },
  {
   "cell_type": "code",
   "execution_count": 30,
   "id": "041c2f4d-a4ea-4311-a0cb-c62578730821",
   "metadata": {},
   "outputs": [
    {
     "data": {
      "text/plain": [
       "(374, 364, 1)"
      ]
     },
     "execution_count": 30,
     "metadata": {},
     "output_type": "execute_result"
    }
   ],
   "source": [
    "ldpc.code_util.compute_code_parameters(log)"
   ]
  },
  {
   "cell_type": "code",
   "execution_count": null,
   "id": "d2c77a22-88bf-4421-8942-fb939331fa86",
   "metadata": {},
   "outputs": [],
   "source": []
  }
 ],
 "metadata": {
  "kernelspec": {
   "display_name": "QEC",
   "language": "python",
   "name": "qec"
  },
  "language_info": {
   "codemirror_mode": {
    "name": "ipython",
    "version": 3
   },
   "file_extension": ".py",
   "mimetype": "text/x-python",
   "name": "python",
   "nbconvert_exporter": "python",
   "pygments_lexer": "ipython3",
   "version": "3.13.5"
  }
 },
 "nbformat": 4,
 "nbformat_minor": 5
}
