{
 "cells": [
  {
   "cell_type": "code",
   "execution_count": 1,
   "id": "3a60454b-cd70-41ed-9aa3-8fb3b4144094",
   "metadata": {},
   "outputs": [],
   "source": [
    "import numpy as np\n",
    "import toric"
   ]
  },
  {
   "cell_type": "code",
   "execution_count": 2,
   "id": "e90e5c63-cadb-4498-94d3-dfe437a4e67e",
   "metadata": {},
   "outputs": [],
   "source": [
    "H = toric.toric_code_x(2)"
   ]
  },
  {
   "cell_type": "code",
   "execution_count": 3,
   "id": "bb2ec724-38e1-45bd-aab6-883b27bd397a",
   "metadata": {},
   "outputs": [],
   "source": [
    "H = toric.toric_code_z(2)"
   ]
  },
  {
   "cell_type": "code",
   "execution_count": 4,
   "id": "f35aa7e6-7ff3-421e-9703-4cc0e7b1e21e",
   "metadata": {},
   "outputs": [
    {
     "name": "stdout",
     "output_type": "stream",
     "text": [
      "Generate X stabilizers\n",
      "[0, 1, 3, 4]\n",
      "[2, 3, 1, 6]\n",
      "[4, 5, 7, 0]\n",
      "[6, 7, 5, 2]\n",
      "Generate Z stabilizers\n",
      "[0, 1, 2, 5]\n",
      "[2, 3, 0, 7]\n",
      "[4, 5, 6, 1]\n",
      "[6, 7, 4, 3]\n"
     ]
    }
   ],
   "source": [
    "H = toric.toric_code(2, verbose=True)"
   ]
  },
  {
   "cell_type": "code",
   "execution_count": 5,
   "id": "0e3dd210-d7a0-4f0f-a012-d755a019b78b",
   "metadata": {},
   "outputs": [
    {
     "data": {
      "text/plain": [
       "True"
      ]
     },
     "execution_count": 5,
     "metadata": {},
     "output_type": "execute_result"
    }
   ],
   "source": [
    "np.allclose((H @ toric.symplectic(2*2**2) @ H.T).data % 2, 0)"
   ]
  },
  {
   "cell_type": "code",
   "execution_count": 6,
   "id": "f0ea2af8-8186-447d-a5a7-84688b4749b1",
   "metadata": {},
   "outputs": [
    {
     "name": "stdout",
     "output_type": "stream",
     "text": [
      "Generate X logicals\n",
      "[1, 5]\n",
      "[0, 2]\n",
      "Generate Z logicals\n",
      "[0, 4]\n",
      "[1, 3]\n"
     ]
    }
   ],
   "source": [
    "log, ip = toric.toric_code_logical(2, verbose=True)"
   ]
  },
  {
   "cell_type": "code",
   "execution_count": 8,
   "id": "86b26120-9d0c-40f9-9aeb-abd55eb7b595",
   "metadata": {},
   "outputs": [
    {
     "data": {
      "text/plain": [
       "array([[0, 0, 0, 1],\n",
       "       [0, 0, 1, 0],\n",
       "       [0, 1, 0, 0],\n",
       "       [1, 0, 0, 0]], dtype=int8)"
      ]
     },
     "execution_count": 8,
     "metadata": {},
     "output_type": "execute_result"
    }
   ],
   "source": [
    "ip.toarray()"
   ]
  },
  {
   "cell_type": "code",
   "execution_count": 9,
   "id": "65e76203-739a-42df-98b8-1cde57e8afac",
   "metadata": {
    "scrolled": true
   },
   "outputs": [
    {
     "name": "stdout",
     "output_type": "stream",
     "text": [
      "Lx=11, Ly=4\n",
      "boundary_x=[False  True]\n",
      "boundary_y=[ True  True False False False False  True False False False False]\n",
      "num_qubits=93\n",
      "Generate X stabilizers\n",
      "[0, 1, 7]\n",
      "[2, 3, 1, 9]\n",
      "[4, 5, 3, 11]\n",
      "[6, 5, 13]\n",
      "[7, 8, 15]\n",
      "[9, 10, 8, 17]\n",
      "[11, 12, 10, 19]\n",
      "[13, 12, 21]\n",
      "[15, 16, 14, 24]\n",
      "[17, 18, 16, 26]\n",
      "[19, 20, 18, 28]\n",
      "[21, 22, 20, 30]\n",
      "[24, 25, 23, 33]\n",
      "[26, 27, 25, 35]\n",
      "[28, 29, 27, 37]\n",
      "[30, 31, 29, 39]\n",
      "[33, 34, 32, 42]\n",
      "[35, 36, 34, 44]\n",
      "[37, 38, 36, 46]\n",
      "[39, 40, 38, 48]\n",
      "[42, 43, 41, 50]\n",
      "[44, 45, 43, 52]\n",
      "[46, 47, 45, 54]\n",
      "[48, 49, 47, 56]\n",
      "[50, 51, 58]\n",
      "[52, 53, 51, 60]\n",
      "[54, 55, 53, 62]\n",
      "[56, 55, 64]\n",
      "[58, 59, 57, 67]\n",
      "[60, 61, 59, 69]\n",
      "[62, 63, 61, 71]\n",
      "[64, 65, 63, 73]\n",
      "[67, 68, 66, 76]\n",
      "[69, 70, 68, 78]\n",
      "[71, 72, 70, 80]\n",
      "[73, 74, 72, 82]\n",
      "[76, 77, 75, 85]\n",
      "[78, 79, 77, 87]\n",
      "[80, 81, 79, 89]\n",
      "[82, 83, 81, 91]\n",
      "[85, 86, 84]\n",
      "[87, 88, 86]\n",
      "[89, 90, 88]\n",
      "[91, 92, 90]\n"
     ]
    },
    {
     "data": {
      "text/plain": [
       "<Compressed Sparse Row sparse matrix of dtype 'int8'\n",
       "\twith 166 stored elements and shape (44, 93)>"
      ]
     },
     "execution_count": 9,
     "metadata": {},
     "output_type": "execute_result"
    }
   ],
   "source": [
    "toric.surface_code_x(4, 4, verbose=True)"
   ]
  },
  {
   "cell_type": "code",
   "execution_count": 10,
   "id": "dffbcfda-3708-4a31-9d46-056dcaf839f6",
   "metadata": {
    "scrolled": true
   },
   "outputs": [
    {
     "name": "stdout",
     "output_type": "stream",
     "text": [
      "Lx=11, Ly=4\n",
      "boundary_x=[False  True]\n",
      "boundary_y=[ True  True False False False False  True False False False False]\n",
      "num_qubits=93\n",
      "Generate Z stabilizers\n",
      "[0, 1, 2]\n",
      "[2, 3, 4]\n",
      "[4, 5, 6]\n",
      "[7, 1, 9, 8]\n",
      "[9, 3, 11, 10]\n",
      "[11, 5, 13, 12]\n",
      "[15, 8, 17, 16]\n",
      "[17, 10, 19, 18]\n",
      "[19, 12, 21, 20]\n",
      "[14, 24, 23]\n",
      "[24, 16, 26, 25]\n",
      "[26, 18, 28, 27]\n",
      "[30, 22, 31]\n",
      "[28, 20, 30, 29]\n",
      "[23, 33, 32]\n",
      "[33, 25, 35, 34]\n",
      "[35, 27, 37, 36]\n",
      "[39, 31, 40]\n",
      "[37, 29, 39, 38]\n",
      "[32, 42, 41]\n",
      "[42, 34, 44, 43]\n",
      "[44, 36, 46, 45]\n",
      "[48, 40, 49]\n",
      "[46, 38, 48, 47]\n",
      "[50, 43, 52, 51]\n",
      "[52, 45, 54, 53]\n",
      "[54, 47, 56, 55]\n",
      "[58, 51, 60, 59]\n",
      "[60, 53, 62, 61]\n",
      "[62, 55, 64, 63]\n",
      "[57, 67, 66]\n",
      "[67, 59, 69, 68]\n",
      "[69, 61, 71, 70]\n",
      "[73, 65, 74]\n",
      "[71, 63, 73, 72]\n",
      "[66, 76, 75]\n",
      "[76, 68, 78, 77]\n",
      "[78, 70, 80, 79]\n",
      "[82, 74, 83]\n",
      "[80, 72, 82, 81]\n",
      "[75, 85, 84]\n",
      "[85, 77, 87, 86]\n",
      "[87, 79, 89, 88]\n",
      "[91, 83, 92]\n",
      "[89, 81, 91, 90]\n"
     ]
    },
    {
     "data": {
      "text/plain": [
       "<Compressed Sparse Row sparse matrix of dtype 'int8'\n",
       "\twith 165 stored elements and shape (45, 93)>"
      ]
     },
     "execution_count": 10,
     "metadata": {},
     "output_type": "execute_result"
    }
   ],
   "source": [
    "toric.surface_code_z(4, 4, verbose=True)"
   ]
  },
  {
   "cell_type": "code",
   "execution_count": 11,
   "id": "dd640f94-898a-4791-98b8-58cb2446c35f",
   "metadata": {
    "scrolled": true
   },
   "outputs": [
    {
     "name": "stdout",
     "output_type": "stream",
     "text": [
      "(80, 164)\n"
     ]
    }
   ],
   "source": [
    "H = toric.surface_code(5, 2, verbose=False)\n",
    "print(H.shape)"
   ]
  },
  {
   "cell_type": "code",
   "execution_count": 18,
   "id": "07b2eecd-737f-4835-8f86-000d1a924bcf",
   "metadata": {},
   "outputs": [
    {
     "name": "stdout",
     "output_type": "stream",
     "text": [
      "Lx=11, Ly=4\n",
      "boundary_x=[False  True]\n",
      "boundary_y=[ True  True False False False False  True False False False False]\n",
      "num_qubits=93\n",
      "Generate X logicals\n",
      "[22, 31, 40, 49]\n",
      "[14, 23, 32, 41]\n",
      "[65, 74, 83, 92]\n",
      "[57, 66, 75, 84]\n"
     ]
    },
    {
     "data": {
      "text/plain": [
       "<Compressed Sparse Row sparse matrix of dtype 'int8'\n",
       "\twith 16 stored elements and shape (4, 93)>"
      ]
     },
     "execution_count": 18,
     "metadata": {},
     "output_type": "execute_result"
    }
   ],
   "source": [
    "toric.surface_code_logical_x(4,4, verbose=True)"
   ]
  },
  {
   "cell_type": "code",
   "execution_count": 19,
   "id": "2ff79729-d360-4d3e-b773-209e09d0b68e",
   "metadata": {},
   "outputs": [
    {
     "name": "stdout",
     "output_type": "stream",
     "text": [
      "Lx=11, Ly=4\n",
      "boundary_x=[False  True]\n",
      "boundary_y=[ True  True False False False False  True False False False False]\n",
      "num_qubits=93\n",
      "Generate Z logicals\n",
      "[6, 13, 21, 22]\n",
      "[0, 7, 15, 14]\n",
      "[49, 56, 64, 65]\n",
      "[41, 50, 58, 57]\n"
     ]
    },
    {
     "data": {
      "text/plain": [
       "<Compressed Sparse Row sparse matrix of dtype 'int8'\n",
       "\twith 16 stored elements and shape (4, 93)>"
      ]
     },
     "execution_count": 19,
     "metadata": {},
     "output_type": "execute_result"
    }
   ],
   "source": [
    "toric.surface_code_logical_z(4,4, verbose=True)"
   ]
  },
  {
   "cell_type": "code",
   "execution_count": 16,
   "id": "994666b1-6052-4126-bdbc-ae76b7ad72cf",
   "metadata": {},
   "outputs": [],
   "source": [
    "log, ip = toric.surface_code_logical(4, 4, verbose=False)"
   ]
  },
  {
   "cell_type": "code",
   "execution_count": 17,
   "id": "870e3016-87fa-4433-8eba-70a63cc23644",
   "metadata": {},
   "outputs": [
    {
     "data": {
      "text/plain": [
       "array([[0, 0, 0, 0, 1, 0, 1, 0],\n",
       "       [0, 0, 0, 0, 0, 1, 0, 1],\n",
       "       [0, 0, 0, 0, 0, 0, 1, 0],\n",
       "       [0, 0, 0, 0, 0, 0, 0, 1],\n",
       "       [1, 0, 0, 0, 0, 0, 0, 0],\n",
       "       [0, 1, 0, 0, 0, 0, 0, 0],\n",
       "       [1, 0, 1, 0, 0, 0, 0, 0],\n",
       "       [0, 1, 0, 1, 0, 0, 0, 0]], dtype=int8)"
      ]
     },
     "execution_count": 17,
     "metadata": {},
     "output_type": "execute_result"
    }
   ],
   "source": [
    "ip.toarray()"
   ]
  },
  {
   "cell_type": "code",
   "execution_count": 37,
   "id": "4e0afcdc-77ac-4e85-9b54-04515386f907",
   "metadata": {},
   "outputs": [
    {
     "data": {
      "text/plain": [
       "0"
      ]
     },
     "execution_count": 37,
     "metadata": {},
     "output_type": "execute_result"
    }
   ],
   "source": []
  },
  {
   "cell_type": "code",
   "execution_count": null,
   "id": "945ba45b-b232-4bcb-9791-ca4004ba8326",
   "metadata": {},
   "outputs": [],
   "source": []
  }
 ],
 "metadata": {
  "kernelspec": {
   "display_name": "QEC",
   "language": "python",
   "name": "qec"
  },
  "language_info": {
   "codemirror_mode": {
    "name": "ipython",
    "version": 3
   },
   "file_extension": ".py",
   "mimetype": "text/x-python",
   "name": "python",
   "nbconvert_exporter": "python",
   "pygments_lexer": "ipython3",
   "version": "3.13.5"
  }
 },
 "nbformat": 4,
 "nbformat_minor": 5
}
